{
 "cells": [
  {
   "cell_type": "markdown",
   "id": "e3aaeb1b",
   "metadata": {},
   "source": [
    "# Security Camera \n",
    "## This Project will detect face/body and save the footage as soon as it detects any of that"
   ]
  },
  {
   "cell_type": "code",
   "execution_count": 67,
   "id": "412b71d9",
   "metadata": {},
   "outputs": [
    {
     "name": "stdout",
     "output_type": "stream",
     "text": [
      "Requirement already satisfied: opencv-python in c:\\users\\aakru\\anaconda3\\lib\\site-packages (4.5.5.62)\n",
      "Requirement already satisfied: numpy>=1.17.3 in c:\\users\\aakru\\anaconda3\\lib\\site-packages (from opencv-python) (1.20.3)\n",
      "Note: you may need to restart the kernel to use updated packages.\n"
     ]
    }
   ],
   "source": [
    "pip install opencv-python"
   ]
  },
  {
   "cell_type": "code",
   "execution_count": 75,
   "id": "8a357154",
   "metadata": {},
   "outputs": [],
   "source": [
    "import cv2 \n",
    "import time\n",
    "import datetime"
   ]
  },
  {
   "cell_type": "code",
   "execution_count": 76,
   "id": "87fa6f12",
   "metadata": {},
   "outputs": [],
   "source": [
    "capture=cv2.VideoCapture(0)"
   ]
  },
  {
   "cell_type": "code",
   "execution_count": 77,
   "id": "9607669b",
   "metadata": {},
   "outputs": [],
   "source": [
    "# while True:\n",
    "#     w, frame= capture.read()\n",
    "#     cv2.imshow(\"Footage\",frame)\n",
    "    \n",
    "#     if cv2.waitKey(1)==ord('q'):\n",
    "#         break\n",
    "# #release resources \n",
    "# capture.release()\n",
    "# cv2.destroyAllWindows()"
   ]
  },
  {
   "cell_type": "markdown",
   "id": "60f56885",
   "metadata": {},
   "source": [
    "### using haar cascade for face and body detection "
   ]
  },
  {
   "cell_type": "code",
   "execution_count": 78,
   "id": "b9cb69a8",
   "metadata": {},
   "outputs": [],
   "source": [
    "face_cascade= cv2.CascadeClassifier(cv2.data.haarcascades+\"haarcascade_frontalface_default.xml\")\n",
    "body_cascade= cv2.CascadeClassifier(cv2.data.haarcascades+\"haarcascade_fullbody.xml\")"
   ]
  },
  {
   "cell_type": "code",
   "execution_count": 79,
   "id": "8e7c7a00",
   "metadata": {},
   "outputs": [],
   "source": [
    "detection=False\n",
    "detection_stopped_time=None\n",
    "timer_started=False\n",
    "extraseconds=5\n",
    "\n",
    "frame_size= (int(capture.get(3)),int(capture.get(4)))   #frame size of video recording  (widht,height)\n",
    "fourcc= cv2.VideoWriter_fourcc(*\"mp4v\")    #four char code for video format\n",
    "    "
   ]
  },
  {
   "cell_type": "markdown",
   "id": "794ace11",
   "metadata": {},
   "source": [
    "### We want to record the video for a little bit longer than no face detction \n",
    "This is because say if the person is there but our prog. does not detect him/her than it will suddenly stop and there will be lots of small clips therefore we want to wait some time\n",
    "If this is not done then there will be many clips for the single person or detection, if the person leaves the frame and comes back within 5 seconds then the recording will now continue otherwise there would have been multiple recordings "
   ]
  },
  {
   "cell_type": "code",
   "execution_count": 80,
   "id": "a1b3115f",
   "metadata": {},
   "outputs": [
    {
     "name": "stdout",
     "output_type": "stream",
     "text": [
      "Started recording\n",
      "Stop recording\n",
      "Started recording\n",
      "Stop recording\n",
      "Started recording\n",
      "Stop recording\n",
      "Started recording\n",
      "Stop recording\n"
     ]
    }
   ],
   "source": [
    "#convert the image to grayscale\n",
    "while True:\n",
    "    w, frame= capture.read()\n",
    "    gray=cv2.cvtColor(frame,cv2.COLOR_BGR2GRAY)\n",
    "    \n",
    "    #get locations for all faces available\n",
    "    faces= face_cascade.detectMultiScale(gray,1.3,5) \n",
    "    bodies=body_cascade.detectMultiScale(gray,1.01,5) \n",
    "    #1.3 here is deciding the accuracy, lower the number means more accuracy, min possible is 1, but it will become slower\n",
    "    #the second number, 5 will find 5 neighbours and if they are then it'll accept it is a face. if it finds too many \"wrong\" faces, increase the number \n",
    "    \n",
    "#marking face and body for example\n",
    "#     for (x,y,width,height) in faces:\n",
    "#         cv2.rectangle(frame,(x,y),(x+width,y+height),(0,255,0),2)  #bgr and widht\n",
    "#     for (x,y,width,height) in bodies:\n",
    "#         cv2.rectangle(frame,(x,y),(x+width,y+height),(255,255,0),2)  #bgr and widht\n",
    "    \n",
    "    if (len(faces)+len(bodies))>0:\n",
    "        if detection:\n",
    "            timer_started=False                 #if we have already detected it then we won't stop the recording now\n",
    "        else:\n",
    "            detection=True                      #if we have not yet detected it then start recording\n",
    "            current_time=datetime.datetime.now().strftime(\"%d-%m-%Y-%H-%M-%S\")\n",
    "            #output stream\n",
    "            out= cv2.VideoWriter(f\"{current_time}footage.mp4\",fourcc,20,frame_size) #20 is frame rate\n",
    "            print(\"Started recording\")\n",
    "    elif detection:\n",
    "        if timer_started:\n",
    "            if (time.time()-detection_stopped_time) >=extraseconds:\n",
    "                detection=False\n",
    "                timer_started=False\n",
    "                out.release()\n",
    "                print(\"Stop recording\")\n",
    "        else:\n",
    "            timer_started=True\n",
    "            detection_stopped_time=time.time()\n",
    "    out.write(frame)\n",
    "    cv2.imshow(\"Footage\",frame)\n",
    "        \n",
    "    if cv2.waitKey(1)==ord('q'):\n",
    "        break\n",
    "#release resources \n",
    "out.release()\n",
    "capture.release()\n",
    "cv2.destroyAllWindows()"
   ]
  }
 ],
 "metadata": {
  "kernelspec": {
   "display_name": "Python 3 (ipykernel)",
   "language": "python",
   "name": "python3"
  },
  "language_info": {
   "codemirror_mode": {
    "name": "ipython",
    "version": 3
   },
   "file_extension": ".py",
   "mimetype": "text/x-python",
   "name": "python",
   "nbconvert_exporter": "python",
   "pygments_lexer": "ipython3",
   "version": "3.9.7"
  }
 },
 "nbformat": 4,
 "nbformat_minor": 5
}
